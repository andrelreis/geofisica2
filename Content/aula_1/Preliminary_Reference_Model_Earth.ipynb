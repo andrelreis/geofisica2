{
 "cells": [
  {
   "cell_type": "markdown",
   "id": "ae90701c",
   "metadata": {},
   "source": [
    "# Preliminary Reference Earth Model (PREM)"
   ]
  },
  {
   "cell_type": "markdown",
   "id": "084152fd",
   "metadata": {},
   "source": [
    "O PREM é um modelo unidimensional que representa as propriedades médias da Terra em função do raio planetário. Este modelo inclui a profundidade, densidade, velocidades sísmicas, atenuação e o grau de anisotropia nos limites das camadas que compõem o planeta. \n",
    "\n",
    "**Referência bibliográfica**:\n",
    "\n",
    "[Dziewonski, A.M., and D.L. Anderson. 1981. *Preliminary reference Earth model*. Phys. Earth Plan. Int. 25:297-356](https://lweb.cfa.harvard.edu/~lzeng/papers/PREM.pdf)"
   ]
  },
  {
   "cell_type": "markdown",
   "id": "e643be83",
   "metadata": {},
   "source": [
    "## Objetivos :\n",
    "\n",
    "* Mostrar como as ondas sísmicas se comportam no interior da Terra\n",
    "* Como utilizá-las para analisarmos estruturalmente a Terra\n",
    "* Ver se existe uma relação entre a profundidade e a distribuição de densidade"
   ]
  },
  {
   "cell_type": "markdown",
   "id": "d6bc4195",
   "metadata": {},
   "source": [
    "# Importando bibliotecas"
   ]
  },
  {
   "cell_type": "markdown",
   "id": "b0b29e9f",
   "metadata": {},
   "source": [
    "Importando as bibliotecas que serão utilizadas para manipulação e visualização dos dados."
   ]
  },
  {
   "cell_type": "code",
   "execution_count": null,
   "id": "d95394aa",
   "metadata": {},
   "outputs": [],
   "source": [
    "import matplotlib.pyplot as plt\n",
    "import pandas as pd"
   ]
  },
  {
   "cell_type": "markdown",
   "id": "489a549f",
   "metadata": {},
   "source": [
    "## Carregando os dados do PREM"
   ]
  },
  {
   "cell_type": "code",
   "execution_count": null,
   "id": "8f3c4c1e",
   "metadata": {},
   "outputs": [],
   "source": [
    "names = ['radius','depth','density','Vpv','Vph','Vsv','Vsh','eta','Q_mu','Q_kappa']"
   ]
  },
  {
   "cell_type": "code",
   "execution_count": null,
   "id": "0b612011",
   "metadata": {},
   "outputs": [],
   "source": [
    "fname = 'dataset/PREM_1s.csv'"
   ]
  },
  {
   "cell_type": "code",
   "execution_count": null,
   "id": "96777f90",
   "metadata": {},
   "outputs": [],
   "source": [
    "prem = pd.read_csv(fname,usecols=(0,1,2,3,4,5,6,7,8,9),names=names,low_memory=False)"
   ]
  },
  {
   "cell_type": "markdown",
   "id": "6c6d702c",
   "metadata": {},
   "source": [
    "## Visualizando os dados de densidade e velocidades sísmicas"
   ]
  },
  {
   "cell_type": "code",
   "execution_count": null,
   "id": "efbc853e",
   "metadata": {},
   "outputs": [],
   "source": [
    "fig, axes = plt.subplots(1, 2, figsize=(15,10), sharey=True)\n",
    "fig.suptitle(\"PREM: Preliminary Reference Earth Model\",fontsize = 20)\n",
    "ax = axes[0]\n",
    "prem.plot(\"density\", \"depth\", legend=False, ax=ax)\n",
    "ax.invert_yaxis()\n",
    "ax.set_xlabel(\"Densidade [g/cm³]\",fontsize = 18)\n",
    "ax.set_ylabel(\"Profundidade [km]\",fontsize = 18)\n",
    "ax.grid()\n",
    "ax = axes[1]\n",
    "for velocity in [\"Vpv\",\"Vsv\"]:\n",
    "    prem.plot(velocity, \"depth\", legend=False, ax=ax, label=velocity)\n",
    "ax.grid()\n",
    "ax.legend()\n",
    "ax.set_xlabel(\"Velocity [km/s]\",fontsize = 18)\n",
    "plt.show()"
   ]
  }
 ],
 "metadata": {
  "kernelspec": {
   "display_name": "Python 3 (ipykernel)",
   "language": "python",
   "name": "python3"
  },
  "language_info": {
   "codemirror_mode": {
    "name": "ipython",
    "version": 3
   },
   "file_extension": ".py",
   "mimetype": "text/x-python",
   "name": "python",
   "nbconvert_exporter": "python",
   "pygments_lexer": "ipython3",
   "version": "3.9.13"
  }
 },
 "nbformat": 4,
 "nbformat_minor": 5
}
